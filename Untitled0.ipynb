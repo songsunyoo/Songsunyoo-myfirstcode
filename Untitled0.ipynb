{
  "nbformat": 4,
  "nbformat_minor": 0,
  "metadata": {
    "colab": {
      "provenance": [],
      "authorship_tag": "ABX9TyPXEJZ4cVpxbLJbr7ZryLPc",
      "include_colab_link": true
    },
    "kernelspec": {
      "name": "python3",
      "display_name": "Python 3"
    },
    "language_info": {
      "name": "python"
    }
  },
  "cells": [
    {
      "cell_type": "markdown",
      "metadata": {
        "id": "view-in-github",
        "colab_type": "text"
      },
      "source": [
        "<a href=\"https://colab.research.google.com/github/songsunyoo/Songsunyoo-myfirstcode/blob/main/Untitled0.ipynb\" target=\"_parent\"><img src=\"https://colab.research.google.com/assets/colab-badge.svg\" alt=\"Open In Colab\"/></a>"
      ]
    },
    {
      "cell_type": "code",
      "execution_count": null,
      "metadata": {
        "id": "3z8B44jH6h_j"
      },
      "outputs": [],
      "source": [
        "print(\"hello word!\")"
      ]
    },
    {
      "cell_type": "markdown",
      "source": [
        "위 코드를 실행하면 \"hello word!\"가 출력됩니다"
      ],
      "metadata": {
        "id": "3jKnsYwZ6kyU"
      }
    },
    {
      "cell_type": "code",
      "source": [
        "print(5+5, 6-2, 4*5, 6/2)"
      ],
      "metadata": {
        "id": "WxUlcqSS6ooK"
      },
      "execution_count": null,
      "outputs": []
    },
    {
      "cell_type": "markdown",
      "source": [
        "위 코드를 실행하면 결과로 10, 4, 20, 3.0이 출력됩니다. 순서대로 덧셈, 뺄셈, 곱셈, 나눗셈의 결과입니다."
      ],
      "metadata": {
        "id": "MhMK_Egc6xir"
      }
    },
    {
      "cell_type": "code",
      "source": [
        "# 사용자로부터 x, y, z 값을 입력받습니다.\n",
        "x = int(input(\"x의 값을 입력하시오: \"))\n",
        "y = int(input(\"y의 값을 입력하시오: \"))\n",
        "z = int(input(\"z의 값을 입력하시오: \"))\n",
        "\n",
        "# 각 변수에 1을 더하여 증가시킵니다.\n",
        "x = x + 1\n",
        "y = y + 1\n",
        "z = z + 1\n",
        "\n",
        "# 결과를 출력합니다.\n",
        "print(f'x의 값은 {x}이며, y의 값은 {y}이고, z의 값은 {z}이다.')"
      ],
      "metadata": {
        "id": "2JeXlV4W60HL"
      },
      "execution_count": null,
      "outputs": []
    },
    {
      "cell_type": "markdown",
      "source": [
        "위 코드는 사용자로부터 x, y, z 값을 입력받아서 각 변수에 1을 더한 후 결과를 출력하는 코드입니다"
      ],
      "metadata": {
        "id": "hAv4bHUa7Srz"
      }
    },
    {
      "cell_type": "code",
      "source": [
        "# 사용자로부터 성적을 입력받습니다.\n",
        "Grade = int(input(\"성적 입력: \"))\n",
        "\n",
        "# 입력받은 성적이 70 이상인지 확인하고 결과를 출력합니다.\n",
        "if Grade >= 70:\n",
        "    print(\"70점 이상이므로 합격\")  # 70 이상인 경우 합격 메시지 출력\n",
        "else:\n",
        "    print(\"70점 이하는 불합격\")  # 70 미만인 경우 불합격 메시지 출력"
      ],
      "metadata": {
        "id": "sMCQbc1c7sc0"
      },
      "execution_count": null,
      "outputs": []
    },
    {
      "cell_type": "markdown",
      "source": [
        "위 코드는 사용자로부터 성적을 입력받고, 입력받은 성적이 70 이상인지를 확인하여 결과를 출력하는 코드입니다"
      ],
      "metadata": {
        "id": "kvnqtoyr7vYO"
      }
    },
    {
      "cell_type": "code",
      "source": [
        "# 사용자로부터 구입금액을 입력받습니다.\n",
        "price = int(input(\"구입금액 입력: \"))\n",
        "\n",
        "# 배송료를 결정하는 조건문입니다.\n",
        "if price >= 100000:\n",
        "    shipping_cost = 0  # 구입금액이 10만원 이상이면 배송료는 0원\n",
        "else:\n",
        "    if price >= 20000:\n",
        "        shipping_cost = 3000  # 구입금액이 2만원 이상이면 배송료는 3000원\n",
        "    else:\n",
        "        shipping_cost = 5000  # 구입금액이 2만원 미만이면 배송료는 5000원\n",
        "\n",
        "print(f'배송료는 {shipping_cost}원 입니다.')  # 배송료 출력"
      ],
      "metadata": {
        "id": "J_vJHl_A7yAr"
      },
      "execution_count": null,
      "outputs": []
    },
    {
      "cell_type": "markdown",
      "source": [
        "위 코드는 사용자로부터 구입금액을 입력받고, 입력된 금액에 따라 배송료를 결정하는 코드입니다."
      ],
      "metadata": {
        "id": "A6A-r3jX8ICU"
      }
    },
    {
      "cell_type": "code",
      "source": [
        "for _ in range(5):  # 5번 반복\n",
        "    print(\"환영합니다.\")"
      ],
      "metadata": {
        "id": "K7Q9rQ7U8Iut"
      },
      "execution_count": null,
      "outputs": []
    },
    {
      "cell_type": "markdown",
      "source": [
        "위 코드는 \"환영합니다.\"라는 메시지를 5번 반복하여 출력하는 코드입니다. 반복문을 사용하여 코드를 간결하게 작성할 수 있습니다."
      ],
      "metadata": {
        "id": "7Gu4bVTZ8SEj"
      }
    },
    {
      "cell_type": "code",
      "source": [
        "# \"환영합니다.\" 메시지를 5번 출력하는 코드입니다.\n",
        "print(\"환영합니다.\")  # 환영 메시지 출력\n",
        "print(\"환영합니다.\")  # 환영 메시지 출력\n",
        "print(\"환영합니다.\")  # 환영 메시지 출력\n",
        "print(\"환영합니다.\")  # 환영 메시지 출력\n",
        "print(\"환영합니다.\")  # 환영 메시지 출력"
      ],
      "metadata": {
        "id": "XxCJIdGD8Szk"
      },
      "execution_count": null,
      "outputs": []
    },
    {
      "cell_type": "markdown",
      "source": [
        "위 코드는 \"환영합니다.\"라는 메시지를 5번 출력하는 코드입니다"
      ],
      "metadata": {
        "id": "ZMgYhucL8oQ7"
      }
    },
    {
      "cell_type": "code",
      "source": [
        "count = 0  # 초기값으로 count 변수를 0으로 설정합니다.\n",
        "\n",
        "# count가 5 이하일 때까지 반복하는 while 루프입니다.\n",
        "while count <= 5:\n",
        "    print(\"(\", count, \")\", \"환영합니다.\")  # count의 값을 출력합니다.\n",
        "    count = count + 1  # count 값을 1씩 증가시킵니다."
      ],
      "metadata": {
        "id": "i10g_RSu8u-E"
      },
      "execution_count": null,
      "outputs": []
    },
    {
      "cell_type": "markdown",
      "source": [
        "위 코드는 초기값이 0인 count 변수를 사용하여 0부터 5까지의 숫자를 출력하는 코드입니다. while 루프를 사용하여 count가 5 이하일 때까지 반복하며, 각 반복마다 count 값을 출력하고 count 값을 1씩 증가시킵니다."
      ],
      "metadata": {
        "id": "OjNTapaN8v0z"
      }
    },
    {
      "cell_type": "code",
      "source": [
        "x = 0  # 초기값으로 x 변수를 0으로 설정합니다.\n",
        "\n",
        "while x < 10:  # x가 10보다 작을 때까지 반복하는 while 루프입니다.\n",
        "    # 현재 x 값을 출력하고 줄바꿈 없이 공백으로 구분하여 출력합니다.\n",
        "    print(x, end=' ')\n",
        "    x = x + 1  # x 값을 1씩 증가시킵니다."
      ],
      "metadata": {
        "id": "QQCT-TcF8zRL"
      },
      "execution_count": null,
      "outputs": []
    },
    {
      "cell_type": "markdown",
      "source": [
        "위 코드는 초기값이 0인 x 변수를 사용하여 0부터 9까지의 숫자를 출력하는 코드입니다. while 루프를 사용하여 x가 10보다 작을 때까지 반복하며, 각 반복마다 x 값을 출력하고 x 값을 1씩 증가시킵니다."
      ],
      "metadata": {
        "id": "YSUaUAQ29uqb"
      }
    },
    {
      "cell_type": "code",
      "source": [
        "x = 0  # 초기값으로 x 변수를 0으로 설정합니다.\n",
        "\n",
        "while x < 10:  # x가 10보다 작을 때까지 반복하는 while 루프입니다.\n",
        "    # 현재 x 값을 출력하고 줄바꿈 없이 공백으로 구분하여 출력합니다.\n",
        "    print(x, end=' ')\n",
        "    x = x + 1  # x 값을 1씩 증가시킵니다."
      ],
      "metadata": {
        "id": "FmD3p2H49xC8"
      },
      "execution_count": null,
      "outputs": []
    },
    {
      "cell_type": "markdown",
      "source": [
        "위 코드는 초기값이 0인 x 변수를 사용하여 0부터 9까지의 숫자를 출력하는 코드입니다. while 루프를 사용하여 x가 10보다 작을 때까지 반복하며, 각 반복마다 x 값을 출력하고 x 값을 1씩 증가시킵니다"
      ],
      "metadata": {
        "id": "QrY7LK9f-Ejb"
      }
    },
    {
      "cell_type": "code",
      "source": [
        "price = int(input(\"구입금액 입력: \"))  # 사용자로부터 정수형 구입금액을 입력받아 price 변수에 저장합니다.\n",
        "\n",
        "if price >= 100000:  # 만약 price의 값이 10만원보다 크거나 같다면\n",
        "    shipping_cost = 0  # 선택지 1: 배송료(shipping_cost)는 0원입니다.\n",
        "else:  # 그렇지 않다면\n",
        "    if price >= 20000:  # 선택지 2: price의 값이 2만원보다 크거나 같다면\n",
        "        shipping_cost = 3000  # 배송료(shipping_cost)는 3000원입니다.\n",
        "    else:  # 그렇지 않다면\n",
        "        shipping_cost = 5000  # 선택지 3: 배송료(shipping_cost)는 5000원입니다.\n",
        "\n",
        "print(f'배송료는 {shipping_cost}원 입니다.')  # 최종 배송료를 출력합니다. (F-string을 사용하여 문자열 포맷팅)"
      ],
      "metadata": {
        "id": "GoH-uEkP-H9_"
      },
      "execution_count": null,
      "outputs": []
    },
    {
      "cell_type": "markdown",
      "source": [
        "위 코드는 사용자로부터 구입금액을 입력받아 해당 금액에 따라 배송료를 계산하는 코드입니다. 구입금액(price)에 따라 조건문을 사용하여 배송료(shipping_cost)를 결정합니다. 입력된 구입금액이 10만원 이상이면 배송료는 0원이고, 2만원 이상이면 배송료는 3000원입니다. 그 외의 경우에는 배송료가 5000원으로 설정됩니다. 마지막으로 배송료를 출력합니다"
      ],
      "metadata": {
        "id": "LJuYVlhe-bJU"
      }
    },
    {
      "cell_type": "code",
      "source": [
        "for num in range(1, 11):  # 1부터 10까지의 숫자에 대해 반복하는 for 루프입니다.\n",
        "    if num % 3 == 0:  # 현재 숫자(num)를 3으로 나눈 나머지가 0이면\n",
        "        print(\"박수\", end=' ')  # \"박수\"를 출력하고 줄바꿈 없이 공백으로 구분하여 출력합니다.\n",
        "    else:  # 그렇지 않다면\n",
        "        print(num, end=' ')  # 현재 숫자(num)를 출력하고 줄바꿈 없이 공백으로 구분하여 출력합니다."
      ],
      "metadata": {
        "id": "I6YdrPdU-qrw"
      },
      "execution_count": null,
      "outputs": []
    },
    {
      "cell_type": "markdown",
      "source": [
        "위 코드는 1부터 10까지의 숫자에 대해 반복하면서, 각 숫자가 3의 배수인지를 확인하는 코드입니다. 만약 숫자(num)를 3으로 나눈 나머지가 0이라면 \"박수\"를 출력하고, 그렇지 않다면 해당 숫자(num)를 출력합니다. 출력 시 줄바꿈 없이 공백으로 구분하여 출력합니다"
      ],
      "metadata": {
        "id": "KT-TINEX-tvd"
      }
    },
    {
      "cell_type": "code",
      "source": [
        "hours_worked = int(input(\"일한 시간을 입력하시오>: \"))  # 사용자로부터 일한 시간을 입력받아 hours_worked 변수에 저장합니다.\n",
        "pay_rate = int(input(\"시급을 입력하시오. (23년 시급 9620): \"))  # 사용자로부터 시급을 입력받아 pay_rate 변수에 저장합니다.\n",
        "day_worked = int(input(\"일한 날짜를 입력하시오.: \"))  # 사용자로부터 일한 날짜를 입력받아 day_worked 변수에 저장합니다.\n",
        "\n",
        "day_month = hours_worked * day_worked  # 월별 근무일수를 계산하기 위해 일한 시간(hours_worked)에 일한 날짜(day_worked)를 곱하여 day_month 변수에 저장합니다.\n",
        "monthly_pay = hours_worked * pay_rate * day_worked  # 월급여를 계산하기 위해 일한 시간(hours_worked), 시급(pay_rate), 일한 날짜(day_worked)를 곱하여 monthly_pay 변수에 저장합니다.\n",
        "\n",
        "print(f'일한 시간은 {hours_worked}이며, 시급은 {pay_rate}이고, 월급여는 {monthly_pay}입니다.')  # 최종적으로 일한 시간, 시급, 월급여를 출력합니다. (F-string을 사용하여 문자열 포맷팅)"
      ],
      "metadata": {
        "id": "7kjZQM0I-uas"
      },
      "execution_count": null,
      "outputs": []
    },
    {
      "cell_type": "markdown",
      "source": [
        "위 코드는 사용자로부터 일한 시간, 시급, 일한 날짜를 입력받아 월별 근무일수를 계산하고, 월급여를 계산하여 출력하는 코드입니다. 입력된 일한 시간, 시급, 일한 날짜를 바탕으로 월별 근무일수와 월급여를 계산하여 변수에 저장하고, 마지막으로 일한 시간, 시급, 월급여를 출력합니다."
      ],
      "metadata": {
        "id": "39W_b5hB-3mm"
      }
    },
    {
      "cell_type": "code",
      "source": [
        "usd = int(input(\"환전할 금액을 입력: \"))  # 사용자로부터 환전할 금액을 입력받아 usd 변수에 저장합니다.\n",
        "won = int(input(\"달러의 환율금액 입력(231031: 1372원): \"))  # 사용자로부터 달러의 환율금액을 입력받아 won 변수에 저장합니다.\n",
        "\n",
        "exchange = won * usd  # 환전할 금액을 계산하기 위해 달러의 환율금액(won)과 환전할 금액(usd)를 곱하여 exchange 변수에 저장합니다.\n",
        "\n",
        "print(f'환전하고 싶은 금액은 {usd}달러는 환율 {won}으로 계산해서, {exchange}원입니다.')  # 최종적으로 환전하고 싶은 금액을 출력합니다. (F-string을 사용하여 문자열 포맷팅)"
      ],
      "metadata": {
        "id": "I3pLwJYU_EUc"
      },
      "execution_count": null,
      "outputs": []
    },
    {
      "cell_type": "markdown",
      "source": [
        "위 코드는 사용자로부터 환전할 금액과 달러의 환율금액을 입력받아 환전할 금액을 계산하여 출력하는 코드입니다. 입력된 환전할 금액과 달러의 환율금액을 바탕으로 환전할 금액을 계산하고, 마지막으로 환전하고 싶은 금액을 출력합니다"
      ],
      "metadata": {
        "id": "SHQhtN2B_FOL"
      }
    },
    {
      "cell_type": "code",
      "source": [
        "fahrenheit = int(input(\"화씨를 입력하시오: \"))  # 사용자로부터 화씨 온도를 입력받아 fahrenheit 변수에 저장합니다.\n",
        "\n",
        "celsius = (fahrenheit - 32) / 1.8  # 화씨를 섭씨로 변환하기 위해 입력받은 화씨 온도(fahrenheit)에서 32를 빼고 1.8로 나누어 celsius 변수에 저장합니다.\n",
        "\n",
        "print(celsius)  # 최종적으로 변환된 섭씨 온도를 출력합니다."
      ],
      "metadata": {
        "id": "-TDR3SKZ_IO0"
      },
      "execution_count": null,
      "outputs": []
    },
    {
      "cell_type": "markdown",
      "source": [
        "위 코드는 사용자로부터 입력받은 화씨 온도를 섭씨로 변환하는 코드입니다. 입력받은 화씨 온도(fahrenheit)에서 32를 빼고 1.8로 나누어 섭씨 온도(celsius)를 계산하여 변수에 저장하고, 마지막으로 변환된 섭씨 온도를 출력합니다."
      ],
      "metadata": {
        "id": "1VhhKnOz_TVD"
      }
    },
    {
      "cell_type": "code",
      "source": [
        "celsius = float(input(\"섭씨를 입력하시오.: \"))  # 사용자로부터 섭씨 온도를 입력받아 celsius 변수에 저장합니다.\n",
        "\n",
        "fahrenheit = celsius * 1.8 + 32  # 섭씨를 화씨로 변환하기 위해 입력받은 섭씨 온도(celsius)에 1.8을 곱하고 32를 더하여 fahrenheit 변수에 저장합니다.\n"
      ],
      "metadata": {
        "id": "EvafCMwB_UDs"
      },
      "execution_count": null,
      "outputs": []
    },
    {
      "cell_type": "markdown",
      "source": [
        "위 코드는 사용자로부터 입력받은 섭씨 온도를 화씨로 변환하는 코드입니다. 입력받은 섭씨 온도(celsius)에 1.8을 곱하고 32를 더하여 화씨 온도(fahrenheit)를 계산하여 변수에 저장하고, 마지막으로 변환된 화씨 온도를 출력합니다."
      ],
      "metadata": {
        "id": "fb72hXBF_bMb"
      }
    },
    {
      "cell_type": "code",
      "source": [
        "n1 = int(input(\"n1의 값을 입력하시오: \"))  # 사용자로부터 n1의 값을 입력받아 n1 변수에 저장합니다.\n",
        "n2 = int(input(\"n2의 값을 입력하시오: \"))  # 사용자로부터 n2의 값을 입력받아 n2 변수에 저장합니다.\n",
        "n3 = int(input(\"n3의 값을 입력하시오: \"))  # 사용자로부터 n3의 값을 입력받아 n3 변수에 저장합니다.\n",
        "\n",
        "total = n1 + n2 + n3  # n1, n2, n3의 값을 더하여 total 변수에 저장합니다.\n",
        "print('합계는: ', total)  # 최종적으로 합계를 출력합니다.\n",
        "\n",
        "average = total / 3  # total을 3으로 나누어 평균을 계산하여 average 변수에 저장합니다.\n",
        "print('평균은: ', average)  # 최종적으로 평균을 출력합니다."
      ],
      "metadata": {
        "id": "2MW2W5Yz_b4E"
      },
      "execution_count": null,
      "outputs": []
    },
    {
      "cell_type": "markdown",
      "source": [
        "위 코드는 사용자로부터 n1, n2, n3의 값을 입력받아 합계와 평균을 계산하여 출력하는 코드입니다. 입력받은 n1, n2, n3의 값을 더하여 합계를 계산하고, 합계를 출력합니다. 그리고 합계를 3으로 나누어 평균을 계산하고, 평균을 출력합니다"
      ],
      "metadata": {
        "id": "K-OKZ5_0_uyE"
      }
    },
    {
      "cell_type": "code",
      "source": [
        "t(input(\"n1의 값을 입력하시오: \"))  # 사용자로부터 n1의 값을 입력받아 n1 변수에 저장합니다.\n",
        "n2 = int(input(\"n2의 값을 입력하시오: \"))  # 사용자로부터 n2의 값을 입력받아 n2 변수에 저장합니다.\n",
        "n3 = int(input(\"n3의 값을 입력하시오: \"))  # 사용자로부터 n3의 값을 입력받아 n3 변수에 저장합니다.\n",
        "\n",
        "total = n1 + n2 + n3  # n1, n2, n3의 값을 더하여 total 변수에 저장합니다.\n",
        "print('합계는: ', total)  # 최종적으로 합계를 출력합니다.\n",
        "\n",
        "average = total / 3  # total을 3으로 나누어 평균을 계산하여 average 변수에 저장합니다.\n",
        "print('평균은: ', average)  # 최종적으로 평균을 출력합니다."
      ],
      "metadata": {
        "id": "44h43x0G_xEd"
      },
      "execution_count": null,
      "outputs": []
    },
    {
      "cell_type": "markdown",
      "source": [
        "위 코드는 사용자로부터 n1, n2, n3의 값을 입력받아 합계와 평균을 계산하여 출력하는 코드입니다. 입력받은 n1, n2, n3의 값을 더하여 합계를 계산하고, 합계를 출력합니다. 그리고 합계를 3으로 나누어 평균을 계산하고, 평균을 출력합니다."
      ],
      "metadata": {
        "id": "RL7NBxJGAAq8"
      }
    },
    {
      "cell_type": "code",
      "source": [
        "n1 = int(input(\"n1의 값을 입력하시오: \"))  # 사용자로부터 n1의 값을 입력받아 n1 변수에 저장합니다.\n",
        "n2 = int(input(\"n2의 값을 입력하시오: \"))  # 사용자로부터 n2의 값을 입력받아 n2 변수에 저장합니다.\n",
        "n3 = int(input(\"n3의 값을 입력하시오: \"))  # 사용자로부터 n3의 값을 입력받아 n3 변수에 저장합니다.\n",
        "\n",
        "total = n1 + n2 + n3  # n1, n2, n3의 값을 더하여 total 변수에 저장합니다.\n",
        "print('합계는:', total)  # 최종적으로 합계를 출력합니다.\n",
        "\n",
        "average = total / 3  # total을 3으로 나누어 평균을 계산하여 average 변수에 저장합니다.\n",
        "print('평균은:', average)  # 최종적으로 평균을 출력합니다."
      ],
      "metadata": {
        "id": "WeQX2gJ9AD8P"
      },
      "execution_count": null,
      "outputs": []
    },
    {
      "cell_type": "markdown",
      "source": [
        "입력받은 n1, n2, n3의 값을 더하여 합계를 계산하고, 합계를 출력합니다. 그리고 합계를 3으로 나누어 평균을 계산하고, 평균을 출력합니다. 코드의 목적은 사용자로부터 세 개의 숫자를 입력받아 합계와 평균을 구하는 것입니다"
      ],
      "metadata": {
        "id": "ktPeYV9hAHI7"
      }
    }
  ]
}