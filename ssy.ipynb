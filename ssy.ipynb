{
  "nbformat": 4,
  "nbformat_minor": 0,
  "metadata": {
    "colab": {
      "provenance": [],
      "authorship_tag": "ABX9TyP+9dlQWlxFsyLXeeOSwQKU",
      "include_colab_link": true
    },
    "kernelspec": {
      "name": "python3",
      "display_name": "Python 3"
    },
    "language_info": {
      "name": "python"
    }
  },
  "cells": [
    {
      "cell_type": "markdown",
      "metadata": {
        "id": "view-in-github",
        "colab_type": "text"
      },
      "source": [
        "<a href=\"https://colab.research.google.com/github/mminjjii/code_3rd/blob/main/ssy.ipynb\" target=\"_parent\"><img src=\"https://colab.research.google.com/assets/colab-badge.svg\" alt=\"Open In Colab\"/></a>"
      ]
    },
    {
      "cell_type": "code",
      "execution_count": null,
      "metadata": {
        "colab": {
          "base_uri": "https://localhost:8080/"
        },
        "id": "qDmP5c11cvFd",
        "outputId": "655e36af-e5f1-41f5-d99c-bd16943b066a"
      },
      "outputs": [
        {
          "output_type": "stream",
          "name": "stdout",
          "text": [
            "정수 2개를 입력하시오.: \n"
          ]
        }
      ],
      "source": [
        "print(\"정수 2개를 입력하시오.: \")\n",
        "x = int(input('x의 값을 입력하시오.: '))\n",
        "y = int(input('y의 값을 입력하시오.: '))\n",
        "sum = x + y\n",
        "print(sum)\n",
        "print(f'정수 {x} + 정수 {y}의 값은 {sum}이다.')"
      ]
    },
    {
      "cell_type": "code",
      "source": [
        "print(\"상품의 가격을 입력하시오\")\n",
        "price = int(input('상품의 가격: '))\n",
        "vat = price * 0.1\n",
        "print(vat)\n",
        "print(f'상품의 가격은 {price}이며, 부가세는 {vat}이다. ')"
      ],
      "metadata": {
        "id": "Uy-0Jrx2dkBq"
      },
      "execution_count": null,
      "outputs": []
    }
  ]
}